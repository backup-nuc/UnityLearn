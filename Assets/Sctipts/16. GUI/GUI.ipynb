{
 "cells": [
  {
   "cell_type": "markdown",
   "id": "19daa0a1",
   "metadata": {},
   "source": [
    "# Unity GUI 简介\n",
    "\n",
    "## 1. GUI 全称\n",
    "即时模式游戏用户交互界面，是一个代码驱动的 UI 系统。\n",
    "\n",
    "## 2. GUI 的作用\n",
    "- 为程序员的调试工具，创建游戏内调试工具\n",
    "- 为脚本组件创建自定义检视面板\n",
    "- 创建新的编辑器窗口和工具以拓展 Unity 本身（一般为内置游戏工具，不用于玩家 UI 系统）\n",
    "\n",
    "## 3. GUI 的工作原理\n",
    "- 在继承了 MonoBehaviour 的脚本的特殊函数里调用 GUI 提供的方法\n",
    "- 它是每帧执行的，专门绘制 GUI 界面的函数，一般只执行 GUI 相关绘制和操作逻辑\n",
    "- 该函数在 OnDisable 之前，LateUpdate 之后执行"
   ]
  }
 ],
 "metadata": {
  "kernelspec": {
   "display_name": "base",
   "language": "python",
   "name": "python3"
  },
  "language_info": {
   "name": "python",
   "version": "3.13.5"
  }
 },
 "nbformat": 4,
 "nbformat_minor": 5
}
